{
 "cells": [
  {
   "cell_type": "code",
   "execution_count": 2,
   "metadata": {},
   "outputs": [],
   "source": [
    "from main import run"
   ]
  },
  {
   "cell_type": "code",
   "execution_count": 3,
   "metadata": {},
   "outputs": [
    {
     "name": "stdout",
     "output_type": "stream",
     "text": [
      "Running main script...\n",
      "----processing----\n",
      "Ireland expected to win against Wales. Probability of 5.50 vs 0.14\n",
      "England expected to win against Scotland. Probability of 1.05 vs 0.76\n",
      "France expected to win against Italy. Probability of 41.00 vs 0.01\n"
     ]
    }
   ],
   "source": [
    "players_on_fantasy, starting_players, matches, squad = run()"
   ]
  },
  {
   "cell_type": "code",
   "execution_count": 5,
   "metadata": {},
   "outputs": [
    {
     "data": {
      "text/plain": [
       "[('England', 1.0526315789473684), ('Ireland', 5.5)]"
      ]
     },
     "execution_count": 5,
     "metadata": {},
     "output_type": "execute_result"
    }
   ],
   "source": [
    "rankings = {\n",
    "            \"England\": \"\",\n",
    "            \"France\": \"\",\n",
    "            \"Scotland\": \"\",\n",
    "            \"Wales\": \"\",\n",
    "            \"Ireland\": \"\",\n",
    "            \"Italy\": 6\n",
    "        }\n",
    "winning_odds = []\n",
    "losing_odds = []\n",
    "for match in matches:\n",
    "    if match.isItalyPlaying:\n",
    "        selected_team = match.home_team if match.home_team != 'Italy' else match.away_team\n",
    "        rankings[selected_team] = 1\n",
    "        continue\n",
    "    if match.is_home_win:\n",
    "        winning_odds.append((match.home_team, match.home_win_prob))\n",
    "        losing_odds.append((match.away_team, match.away_win_prob))\n",
    "    else:\n",
    "        winning_odds.append((match.away_team, match.away_win_prob))\n",
    "        losing_odds.append((match.home_team, match.home_win_prob))\n",
    "winning_odds.sort(key = lambda x: x[1], reverse=True)\n",
    "losing_odds.sort(key = lambda x: x[1], reverse=True)\n",
    "for i, odd in enumerate(winning_odds):\n",
    "    team = odd[0]\n",
    "    rankings[team] = i+2\n",
    "for i, odd in enumerate(losing_odds):\n",
    "    team = odd[0]\n",
    "    rankings[team] = i+4\n",
    "\n",
    "rankings\n",
    "winning_odds"
   ]
  },
  {
   "cell_type": "code",
   "execution_count": null,
   "metadata": {},
   "outputs": [],
   "source": []
  }
 ],
 "metadata": {
  "interpreter": {
   "hash": "e7ba7479676f7314cdc5dbf416b8d4b04a7dcc3708d27dac4d0edd7308bafb3b"
  },
  "kernelspec": {
   "display_name": "Python 3.7.12 64-bit ('ML-deploy': conda)",
   "language": "python",
   "name": "python3"
  },
  "language_info": {
   "codemirror_mode": {
    "name": "ipython",
    "version": 3
   },
   "file_extension": ".py",
   "mimetype": "text/x-python",
   "name": "python",
   "nbconvert_exporter": "python",
   "pygments_lexer": "ipython3",
   "version": "3.7.12"
  },
  "orig_nbformat": 4
 },
 "nbformat": 4,
 "nbformat_minor": 2
}
